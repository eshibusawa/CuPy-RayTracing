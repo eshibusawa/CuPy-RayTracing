{
 "cells": [
  {
   "cell_type": "markdown",
   "id": "e3a6a18a",
   "metadata": {},
   "source": [
    "# Output an Image"
   ]
  },
  {
   "cell_type": "code",
   "execution_count": null,
   "id": "00630f72",
   "metadata": {},
   "outputs": [],
   "source": [
    "import os\n",
    "import math\n",
    "import numpy as np\n",
    "import cupy as cp\n",
    "\n",
    "from display_image import write_and_display\n",
    "\n",
    "dn = os.path.join(os.path.dirname(os.getcwd()), 'kernels')\n",
    "fnl = list()\n",
    "fnl.append(os.path.join(dn, 'vec3.cuh'))\n",
    "fnl.append(os.path.join(dn, 'render.cu'))\n",
    "\n",
    "cuda_source = None\n",
    "for fpfn in fnl:\n",
    "    with open(fpfn, 'r') as f:\n",
    "        cs = f.read()\n",
    "    if cuda_source is None:\n",
    "        cuda_source = cs\n",
    "    else:\n",
    "        cuda_source += cs"
   ]
  },
  {
   "cell_type": "code",
   "execution_count": null,
   "id": "b9db5590",
   "metadata": {},
   "outputs": [],
   "source": [
    "image_width = 256\n",
    "image_height = 256\n",
    "\n",
    "cuda_source = cuda_source.replace('RTOW_WIDTH', str(image_width))\n",
    "cuda_source = cuda_source.replace('RTOW_HEIGHT', str(image_height))\n",
    "\n",
    "module = cp.RawModule(code=cuda_source)\n",
    "module.compile()"
   ]
  },
  {
   "cell_type": "code",
   "execution_count": null,
   "id": "0dae59b3",
   "metadata": {},
   "outputs": [],
   "source": [
    "img_gpu = cp.empty((image_height, image_width, 3), dtype=cp.float32)\n",
    "assert img_gpu.flags.c_contiguous\n",
    "\n",
    "gpu_func = module.get_function('render')\n",
    "sz_block = 32, 32\n",
    "sz_grid = math.ceil(image_width / sz_block[1]), math.ceil(image_height / sz_block[0])\n",
    "gpu_func(\n",
    "  block=sz_block, grid=sz_grid,\n",
    "  args=(img_gpu)\n",
    ")\n",
    "cp.cuda.runtime.deviceSynchronize()"
   ]
  },
  {
   "cell_type": "code",
   "execution_count": null,
   "id": "2624b697",
   "metadata": {},
   "outputs": [
    {
     "data": {
      "image/png": "[encoded data removed]",
      "text/plain": [
       "<IPython.core.display.Image object>"
      ]
     },
     "metadata": {},
     "output_type": "display_data"
    }
   ],
   "source": [
    "img = img_gpu.get()\n",
    "img8 = (img * np.float32(255.99)).astype(np.uint8)\n",
    "write_and_display(img8)"
   ]
  }
 ],
 "metadata": {
  "language_info": {
   "codemirror_mode": {
    "name": "ipython",
    "version": 3
   },
   "file_extension": ".py",
   "mimetype": "text/x-python",
   "name": "python",
   "nbconvert_exporter": "python",
   "pygments_lexer": "ipython3",
   "version": "3.10.18"
  }
 },
 "nbformat": 4,
 "nbformat_minor": 5
}
