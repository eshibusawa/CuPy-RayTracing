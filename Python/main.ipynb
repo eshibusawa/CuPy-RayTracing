{
 "cells": [
  {
   "cell_type": "markdown",
   "id": "2879dfff",
   "metadata": {},
   "source": [
    "# Adding a Sphere"
   ]
  },
  {
   "cell_type": "code",
   "id": "2e8565a6",
   "metadata": {},
   "outputs": [],
   "source": [
    "import os\n",
    "import math\n",
    "import numpy as np\n",
    "import cupy as cp\n",
    "\n",
    "from util_cuda import upload_constant\n",
    "from display_image import write_and_display\n",
    "\n",
    "dn = os.path.join(os.path.dirname(os.getcwd()), 'kernels')\n",
    "fnl = list()\n",
    "fnl.append(os.path.join(dn, 'vec3.cuh'))\n",
    "fnl.append(os.path.join(dn, 'ray.cuh'))\n",
    "fnl.append(os.path.join(dn, 'render.cu'))\n",
    "\n",
    "cuda_source = None\n",
    "for fpfn in fnl:\n",
    "    with open(fpfn, 'r') as f:\n",
    "        cs = f.read()\n",
    "    if cuda_source is None:\n",
    "        cuda_source = cs\n",
    "    else:\n",
    "        cuda_source += cs"
   ]
  },
  {
   "cell_type": "code",
   "id": "825439fd",
   "metadata": {},
   "outputs": [],
   "source": [
    "aspect_ratio = 16.0 / 9.0\n",
    "image_width = int(400)\n",
    "image_height = int(image_width / aspect_ratio)\n",
    "image_height = max(1, image_height)\n",
    "\n",
    "cuda_source = cuda_source.replace('RTOW_WIDTH', str(image_width))\n",
    "cuda_source = cuda_source.replace('RTOW_HEIGHT', str(image_height))\n",
    "\n",
    "module = cp.RawModule(code=cuda_source)\n",
    "module.compile()"
   ]
  },
  {
   "cell_type": "code",
   "id": "656fe03f",
   "metadata": {},
   "outputs": [],
   "source": [
    "focal_length = 1.0\n",
    "viewport_height = 2.0\n",
    "viewport_width = viewport_height * (float(image_width)/image_height)\n",
    "camera_center = np.array([0, 0, 0], dtype=np.float32)\n",
    "\n",
    "viewport_u = np.array([viewport_width, 0, 0], dtype=np.float32)\n",
    "viewport_v = np.array([0, -viewport_height, 0], dtype=np.float32)\n",
    "\n",
    "pixel_delta_u = viewport_u / image_width\n",
    "pixel_delta_v = viewport_v / image_height\n",
    "\n",
    "viewport_upper_left = camera_center - np.array([0, 0, focal_length], dtype=np.float32) - viewport_u/2 - viewport_v/2\n",
    "pixel00_loc = viewport_upper_left + 0.5 * (pixel_delta_u + pixel_delta_v)\n",
    "\n",
    "upload_constant(module, camera_center, 'g_cameraCenter')\n",
    "upload_constant(module, pixel_delta_u, 'g_pixelDeltaU')\n",
    "upload_constant(module, pixel_delta_v, 'g_pixelDeltaV')\n",
    "upload_constant(module, pixel00_loc, 'g_pixel00Loc')"
   ]
  },
  {
   "cell_type": "code",
   "id": "71831900",
   "metadata": {},
   "outputs": [],
   "source": [
    "img_gpu = cp.empty((image_height, image_width, 3), dtype=cp.float32)\n",
    "assert img_gpu.flags.c_contiguous\n",
    "\n",
    "gpu_func = module.get_function('render')\n",
    "sz_block = 32, 32\n",
    "sz_grid = math.ceil(image_width / sz_block[1]), math.ceil(image_height / sz_block[0])\n",
    "gpu_func(\n",
    "  block=sz_block, grid=sz_grid,\n",
    "  args=(img_gpu)\n",
    ")\n",
    "cp.cuda.runtime.deviceSynchronize()"
   ]
  },
  {
   "cell_type": "code",
   "id": "abd0f2f2",
   "metadata": {},
   "outputs": [
    {
     "data": {
      "image/png": "[encoded data removed]",
      "text/plain": [
       "<IPython.core.display.Image object>"
      ]
     },
     "metadata": {},
     "output_type": "display_data"
    }
   ],
   "source": [
    "img = img_gpu.get()\n",
    "img8 = (img * np.float32(255.99)).astype(np.uint8)\n",
    "\n",
    "write_and_display(img8)"
   ]
  }
 ],
 "metadata": {
  "language_info": {
   "codemirror_mode": {
    "name": "ipython",
    "version": 3
   },
   "file_extension": ".py",
   "mimetype": "text/x-python",
   "name": "python",
   "nbconvert_exporter": "python",
   "pygments_lexer": "ipython3",
   "version": "3.10.18"
  }
 },
 "nbformat": 4,
 "nbformat_minor": 5
}
