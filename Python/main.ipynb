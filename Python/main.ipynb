{
 "cells": [
  {
   "cell_type": "markdown",
   "id": "e152a314",
   "metadata": {},
   "source": [
    "# Defocus Blur"
   ]
  },
  {
   "cell_type": "code",
   "execution_count": null,
   "id": "2dea092c",
   "metadata": {},
   "outputs": [],
   "source": [
    "import os\n",
    "import numpy as np\n",
    "import cupy as cp\n",
    "\n",
    "from camera import CameraSettings\n",
    "from camera import Camera\n",
    "from world import world\n",
    "from display_image import write_and_display\n",
    "\n",
    "dn = os.path.join(os.path.dirname(os.getcwd()), 'kernels')\n",
    "fnl = list()\n",
    "fnl.append(os.path.join(dn, 'vec3.cuh'))\n",
    "fnl.append(os.path.join(dn, 'util_rand.cuh'))\n",
    "fnl.append(os.path.join(dn, 'interval.cuh'))\n",
    "fnl.append(os.path.join(dn, 'ray.cuh'))\n",
    "fnl.append(os.path.join(dn, 'hittable.cuh'))\n",
    "fnl.append(os.path.join(dn, 'material.cuh'))\n",
    "fnl.append(os.path.join(dn, 'hittable_list.cuh'))\n",
    "fnl.append(os.path.join(dn, 'sphere.cuh'))\n",
    "fnl.append(os.path.join(dn, 'world.cu'))\n",
    "fnl.append(os.path.join(dn, 'render.cu'))\n",
    "\n",
    "cuda_source = None\n",
    "for fpfn in fnl:\n",
    "    with open(fpfn, 'r') as f:\n",
    "        cs = f.read()\n",
    "    if cuda_source is None:\n",
    "        cuda_source = cs\n",
    "    else:\n",
    "        cuda_source += cs"
   ]
  },
  {
   "cell_type": "code",
   "execution_count": null,
   "id": "034d8994",
   "metadata": {},
   "outputs": [],
   "source": [
    "settings = CameraSettings()\n",
    "settings.aspect_ratio = 16.0 / 9.0\n",
    "settings.image_width = int(400)\n",
    "settings.samples_per_pixel = int(100)\n",
    "settings.max_depth = int(50)\n",
    "\n",
    "settings.vfov = int(20)\n",
    "settings.lookfrom = (-2, 2, 1)\n",
    "settings.lookat = (0, 0, -1)\n",
    "settings.vup = (0, 1, 0)\n",
    "\n",
    "settings.defocus_angle = 10.0\n",
    "settings.focus_dist = 3.4\n",
    "\n",
    "settings.sz_block = 32, 32\n",
    "camera = Camera(settings, cuda_source)\n",
    "camera.setup_module()"
   ]
  },
  {
   "cell_type": "code",
   "execution_count": null,
   "id": "dfc24f49",
   "metadata": {},
   "outputs": [],
   "source": [
    "w = world(camera.module)\n",
    "w.create_world()"
   ]
  },
  {
   "cell_type": "code",
   "execution_count": null,
   "id": "696a4cbe",
   "metadata": {},
   "outputs": [],
   "source": [
    "img_gpu = camera.render(w)\n",
    "img = img_gpu.get()\n",
    "img8 = (img * np.float32(255.99)).astype(np.uint8)\n",
    "\n",
    "write_and_display(img8)\n",
    "w.destroy_world()"
   ]
  }
 ],
 "metadata": {
  "language_info": {
   "codemirror_mode": {
    "name": "ipython",
    "version": 3
   },
   "file_extension": ".py",
   "mimetype": "text/x-python",
   "name": "python",
   "nbconvert_exporter": "python",
   "pygments_lexer": "ipython3",
   "version": "3.10.18"
  }
 },
 "nbformat": 4,
 "nbformat_minor": 5
}
