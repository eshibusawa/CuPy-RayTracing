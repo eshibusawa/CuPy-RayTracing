{
 "cells": [
  {
   "cell_type": "markdown",
   "id": "e152a314",
   "metadata": {},
   "source": [
    "# Moving Camera Code Into Its Own Class"
   ]
  },
  {
   "cell_type": "code",
   "id": "2dea092c",
   "metadata": {},
   "outputs": [],
   "source": [
    "import os\n",
    "import numpy as np\n",
    "import cupy as cp\n",
    "\n",
    "from camera import CameraSettings\n",
    "from camera import Camera\n",
    "from world import world\n",
    "from display_image import write_and_display\n",
    "\n",
    "dn = os.path.join(os.path.dirname(os.getcwd()), 'kernels')\n",
    "fnl = list()\n",
    "fnl.append(os.path.join(dn, 'vec3.cuh'))\n",
    "fnl.append(os.path.join(dn, 'interval.cuh'))\n",
    "fnl.append(os.path.join(dn, 'ray.cuh'))\n",
    "fnl.append(os.path.join(dn, 'hittable.cuh'))\n",
    "fnl.append(os.path.join(dn, 'hittable_list.cuh'))\n",
    "fnl.append(os.path.join(dn, 'sphere.cuh'))\n",
    "fnl.append(os.path.join(dn, 'world.cu'))\n",
    "fnl.append(os.path.join(dn, 'render.cu'))\n",
    "\n",
    "cuda_source = None\n",
    "for fpfn in fnl:\n",
    "    with open(fpfn, 'r') as f:\n",
    "        cs = f.read()\n",
    "    if cuda_source is None:\n",
    "        cuda_source = cs\n",
    "    else:\n",
    "        cuda_source += cs"
   ]
  },
  {
   "cell_type": "code",
   "id": "034d8994",
   "metadata": {},
   "outputs": [],
   "source": [
    "settings = CameraSettings()\n",
    "settings.aspect_ratio = 16.0 / 9.0\n",
    "settings.image_width = int(400)\n",
    "camera = Camera(settings, cuda_source)\n",
    "camera.setup_module()"
   ]
  },
  {
   "cell_type": "code",
   "id": "dfc24f49",
   "metadata": {},
   "outputs": [],
   "source": [
    "w = world(camera.module)"
   ]
  },
  {
   "cell_type": "code",
   "id": "696a4cbe",
   "metadata": {},
   "outputs": [],
   "source": [
    "img_gpu = camera.render(w)\n",
    "img = img_gpu.get()\n",
    "img8 = (img * np.float32(255.99)).astype(np.uint8)\n",
    "\n",
    "write_and_display(img8)"
   ]
  }
 ],
 "metadata": {
  "language_info": {
   "codemirror_mode": {
    "name": "ipython",
    "version": 3
   },
   "file_extension": ".py",
   "mimetype": "text/x-python",
   "name": "python",
   "nbconvert_exporter": "python",
   "pygments_lexer": "ipython3",
   "version": "3.10.18"
  }
 },
 "nbformat": 4,
 "nbformat_minor": 5
}
